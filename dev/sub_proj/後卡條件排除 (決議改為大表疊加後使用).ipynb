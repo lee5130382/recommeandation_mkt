{
 "cells": [
  {
   "cell_type": "markdown",
   "id": "0f211b92",
   "metadata": {
    "toc": true
   },
   "source": [
    "<h1>Table of Contents<span class=\"tocSkip\"></span></h1>\n",
    "<div class=\"toc\"><ul class=\"toc-item\"><li><span><a href=\"#匯入行銷分大表與後卡條件資料表\" data-toc-modified-id=\"匯入行銷分大表與後卡條件資料表-1\"><span class=\"toc-item-num\">1&nbsp;&nbsp;</span>匯入行銷分大表與後卡條件資料表</a></span></li><li><span><a href=\"#檢視被貼標客戶有多少會被排除\" data-toc-modified-id=\"檢視被貼標客戶有多少會被排除-2\"><span class=\"toc-item-num\">2&nbsp;&nbsp;</span>檢視被貼標客戶有多少會被排除</a></span></li><li><span><a href=\"#將需被後卡掉的人，其貼標轉成空值\" data-toc-modified-id=\"將需被後卡掉的人，其貼標轉成空值-3\"><span class=\"toc-item-num\">3&nbsp;&nbsp;</span>將需被後卡掉的人，其貼標轉成空值</a></span></li><li><span><a href=\"#檢查格式\" data-toc-modified-id=\"檢查格式-4\"><span class=\"toc-item-num\">4&nbsp;&nbsp;</span>檢查格式</a></span></li><li><span><a href=\"#存出-後卡後的行銷分大表\" data-toc-modified-id=\"存出-後卡後的行銷分大表-5\"><span class=\"toc-item-num\">5&nbsp;&nbsp;</span>存出 後卡後的行銷分大表</a></span></li><li><span><a href=\"#分析歷程與紀錄\" data-toc-modified-id=\"分析歷程與紀錄-6\"><span class=\"toc-item-num\">6&nbsp;&nbsp;</span>分析歷程與紀錄</a></span><ul class=\"toc-item\"><li><span><a href=\"#紀錄時間-:-20220922\" data-toc-modified-id=\"紀錄時間-:-20220922-6.1\"><span class=\"toc-item-num\">6.1&nbsp;&nbsp;</span>紀錄時間 : 20220922</a></span></li><li><span><a href=\"#紀錄時間-:-20221021\" data-toc-modified-id=\"紀錄時間-:-20221021-6.2\"><span class=\"toc-item-num\">6.2&nbsp;&nbsp;</span>紀錄時間 : 20221021</a></span></li><li><span><a href=\"#紀錄時間-:-20221121\" data-toc-modified-id=\"紀錄時間-:-20221121-6.3\"><span class=\"toc-item-num\">6.3&nbsp;&nbsp;</span>紀錄時間 : 20221121</a></span></li><li><span><a href=\"#紀錄時間-:-20221220\" data-toc-modified-id=\"紀錄時間-:-20221220-6.4\"><span class=\"toc-item-num\">6.4&nbsp;&nbsp;</span>紀錄時間 : 20221220</a></span></li></ul></li></ul></div>"
   ]
  },
  {
   "cell_type": "code",
   "execution_count": null,
   "id": "2228209b",
   "metadata": {
    "ExecuteTime": {
     "end_time": "2022-12-21T12:43:07.350864Z",
     "start_time": "2022-12-21T12:43:05.406467Z"
    }
   },
   "outputs": [],
   "source": [
    "import pandas as pd\n",
    "import numpy as np \n",
    "import warnings\n",
    "warnings.filterwarnings('ignore')\n",
    "# 改變輸出顏色\n",
    "from colorama import init, Fore, Back"
   ]
  },
  {
   "cell_type": "code",
   "execution_count": null,
   "id": "ea4a0440",
   "metadata": {
    "ExecuteTime": {
     "end_time": "2022-12-21T12:43:08.466406Z",
     "start_time": "2022-12-21T12:43:08.463443Z"
    }
   },
   "outputs": [],
   "source": [
    "# 設定大表年月\n",
    "year = '2023'\n",
    "month = '01'\n",
    "# 大表放置路徑\n",
    "result_path = 'D:\\\\SYW\\\\1.行銷分\\\\MKT\\\\2023_01_03\\\\result\\\\'       \n",
    "# 後卡條件資料放置路徑\n",
    "path = 'D:\\\\SYW\\\\1.行銷分\\\\MKT\\\\2023_01_03\\\\後卡條件\\\\'"
   ]
  },
  {
   "cell_type": "markdown",
   "id": "d5875e7a",
   "metadata": {},
   "source": [
    "## 匯入行銷分大表與後卡條件資料表"
   ]
  },
  {
   "cell_type": "code",
   "execution_count": null,
   "id": "0db331f1",
   "metadata": {
    "ExecuteTime": {
     "end_time": "2022-12-21T12:43:31.483548Z",
     "start_time": "2022-12-21T12:43:10.503754Z"
    }
   },
   "outputs": [],
   "source": [
    "# 讀取行銷分大表\n",
    "df = pd.read_csv(result_path + 'IFCUSDPDT0001_' + year + month + '_eff.csv')\n",
    "df.head()"
   ]
  },
  {
   "cell_type": "code",
   "execution_count": null,
   "id": "3b178d61",
   "metadata": {
    "ExecuteTime": {
     "end_time": "2022-12-21T12:43:31.488534Z",
     "start_time": "2022-12-21T12:43:31.484545Z"
    }
   },
   "outputs": [],
   "source": [
    "df.shape"
   ]
  },
  {
   "cell_type": "code",
   "execution_count": null,
   "id": "18508317",
   "metadata": {
    "ExecuteTime": {
     "end_time": "2022-12-21T12:43:31.947330Z",
     "start_time": "2022-12-21T12:43:31.489531Z"
    }
   },
   "outputs": [],
   "source": [
    "# 讀取後卡條件資料表(欲排除ID)\n",
    "rm_df = pd.read_csv(path + 'remove_id_20221220.csv', encoding = 'cp950').rename(columns = {'ID':'SAS_ID'})\n",
    "rm_df.head()"
   ]
  },
  {
   "cell_type": "code",
   "execution_count": null,
   "id": "d460c0e4",
   "metadata": {
    "ExecuteTime": {
     "end_time": "2022-12-21T12:43:31.952292Z",
     "start_time": "2022-12-21T12:43:31.948303Z"
    }
   },
   "outputs": [],
   "source": [
    "rm_df.shape\n",
    "# (879975, 1)"
   ]
  },
  {
   "cell_type": "code",
   "execution_count": null,
   "id": "7b66c56c",
   "metadata": {
    "ExecuteTime": {
     "end_time": "2022-12-21T12:43:33.385453Z",
     "start_time": "2022-12-21T12:43:31.953289Z"
    }
   },
   "outputs": [],
   "source": [
    "# 先檢視整體POOL總共有多少人會從大表被排掉\n",
    "df.SAS_ID.isin(rm_df.SAS_ID).sum()"
   ]
  },
  {
   "cell_type": "markdown",
   "id": "ef996a0f",
   "metadata": {},
   "source": [
    "## 檢視被貼標客戶有多少會被排除"
   ]
  },
  {
   "cell_type": "code",
   "execution_count": null,
   "id": "1e82b63e",
   "metadata": {
    "ExecuteTime": {
     "end_time": "2022-12-21T12:44:01.041903Z",
     "start_time": "2022-12-21T12:44:01.034922Z"
    }
   },
   "outputs": [],
   "source": [
    "col = df.columns[df.columns.str.contains('LEVEL')]\n",
    "col"
   ]
  },
  {
   "cell_type": "code",
   "execution_count": null,
   "id": "8ec99d11",
   "metadata": {
    "ExecuteTime": {
     "end_time": "2022-12-21T12:44:05.710057Z",
     "start_time": "2022-12-21T12:44:04.768579Z"
    },
    "scrolled": true
   },
   "outputs": [],
   "source": [
    "# 先抓出有被貼標的人\n",
    "# tag_index = [i for i in range(len(df)) if any(df.loc[i, col].notna()) ]\n",
    "tag_index = ( df['HOS_MKT_LEVEL'].notna() + df['SUR_MKT_LEVEL'].notna() + df['REI_MKT_LEVEL'].notna() \n",
    "             + df['ACC_MKT_LEVEL'].notna() + df['DD_MKT_LEVEL'].notna() + df['LTC_MKT_LEVEL'].notna() \n",
    "             + df['LIFE_MKT_LEVEL'].notna() )\n",
    "df_tag_cus = df[tag_index]\n",
    "df_tag_cus.shape\n",
    "# (3709850, 38)"
   ]
  },
  {
   "cell_type": "code",
   "execution_count": null,
   "id": "931249b6",
   "metadata": {
    "ExecuteTime": {
     "end_time": "2022-12-21T12:44:22.814564Z",
     "start_time": "2022-12-21T12:44:22.415632Z"
    }
   },
   "outputs": [],
   "source": [
    "# check : 是否成功抓出有任一貼標客戶\n",
    "df_tag_cus[col].dropna(how = 'all').shape\n",
    "# (3709850, 7)"
   ]
  },
  {
   "cell_type": "code",
   "execution_count": null,
   "id": "26aa71ab",
   "metadata": {
    "ExecuteTime": {
     "end_time": "2022-12-21T12:44:25.976527Z",
     "start_time": "2022-12-21T12:44:25.149741Z"
    }
   },
   "outputs": [],
   "source": [
    "# 檢視有多少行銷分貼標的人會被排掉 (過往經驗約為40萬)\n",
    "print('**持有任一貼標客戶中有 {} 人將會被移去原貼標(轉為空值)**'.format(df_tag_cus.SAS_ID.isin(rm_df.SAS_ID).sum()) )\n",
    "# 418277"
   ]
  },
  {
   "cell_type": "code",
   "execution_count": null,
   "id": "d425be2a",
   "metadata": {
    "ExecuteTime": {
     "end_time": "2022-10-21T09:42:51.571366Z",
     "start_time": "2022-10-21T09:42:51.568364Z"
    }
   },
   "outputs": [],
   "source": [
    "# 被排除人數有點多\n",
    "# 後續應檢視多半由是哪個後卡條件造成、檢視【各險種】前10%、11-30%貼標，【各別】失去多少比例的客戶\n",
    "# 後續應該回測這些被卡控掉的客戶促約率、拒保、特承率"
   ]
  },
  {
   "cell_type": "code",
   "execution_count": null,
   "id": "5eae9f44",
   "metadata": {
    "ExecuteTime": {
     "end_time": "2022-12-21T12:45:00.886557Z",
     "start_time": "2022-12-21T12:44:41.089560Z"
    }
   },
   "outputs": [],
   "source": [
    "# 檢視【各險種】前10%、11-30%貼標，【各別】失去多少比例的客戶\n",
    "for i in col:\n",
    "    for j in range(1,4):\n",
    "        # XX險前10%損失客戶\n",
    "        loss = df[df[i] == j].SAS_ID.isin(rm_df.SAS_ID).sum()\n",
    "        # XX險前10%客戶\n",
    "        pool = sum(df[i] == j)\n",
    "        print( '{} 險種貼標為 {} 客戶有 {}% 將被後卡條件排除'.format(i.split('_')[0], j, round(loss/pool*100,2)) ) "
   ]
  },
  {
   "cell_type": "code",
   "execution_count": null,
   "id": "859ad0fa",
   "metadata": {},
   "outputs": [],
   "source": [
    "# HOS 險種貼標為 1 客戶有 11.01% 將被後卡條件排除\n",
    "# HOS 險種貼標為 2 客戶有 10.5% 將被後卡條件排除\n",
    "# HOS 險種貼標為 3 客戶有 10.03% 將被後卡條件排除\n",
    "# SUR 險種貼標為 1 客戶有 9.93% 將被後卡條件排除\n",
    "# SUR 險種貼標為 2 客戶有 9.76% 將被後卡條件排除\n",
    "# SUR 險種貼標為 3 客戶有 9.43% 將被後卡條件排除\n",
    "# REI 險種貼標為 1 客戶有 10.63% 將被後卡條件排除\n",
    "# REI 險種貼標為 2 客戶有 9.92% 將被後卡條件排除\n",
    "# REI 險種貼標為 3 客戶有 9.56% 將被後卡條件排除\n",
    "# ACC 險種貼標為 1 客戶有 9.99% 將被後卡條件排除\n",
    "# ACC 險種貼標為 2 客戶有 9.96% 將被後卡條件排除\n",
    "# ACC 險種貼標為 3 客戶有 9.73% 將被後卡條件排除\n",
    "# DD 險種貼標為 1 客戶有 17.19% 將被後卡條件排除\n",
    "# DD 險種貼標為 2 客戶有 12.35% 將被後卡條件排除\n",
    "# DD 險種貼標為 3 客戶有 10.87% 將被後卡條件排除\n",
    "# LTC 險種貼標為 1 客戶有 11.03% 將被後卡條件排除\n",
    "# LTC 險種貼標為 2 客戶有 10.97% 將被後卡條件排除\n",
    "# LTC 險種貼標為 3 客戶有 10.45% 將被後卡條件排除\n",
    "# LIFE 險種貼標為 1 客戶有 13.27% 將被後卡條件排除\n",
    "# LIFE 險種貼標為 2 客戶有 11.69% 將被後卡條件排除\n",
    "# LIFE 險種貼標為 3 客戶有 11.76% 將被後卡條件排除"
   ]
  },
  {
   "cell_type": "code",
   "execution_count": null,
   "id": "29291a67",
   "metadata": {
    "ExecuteTime": {
     "end_time": "2022-10-21T09:43:21.350321Z",
     "start_time": "2022-10-21T09:43:21.346318Z"
    }
   },
   "outputs": [],
   "source": [
    "# 讀取後卡條件客戶與條件列表"
   ]
  },
  {
   "cell_type": "markdown",
   "id": "55705509",
   "metadata": {},
   "source": [
    "## 將需被後卡掉的人，其貼標轉成空值"
   ]
  },
  {
   "cell_type": "code",
   "execution_count": null,
   "id": "496ad92d",
   "metadata": {
    "ExecuteTime": {
     "end_time": "2022-12-21T12:45:05.953633Z",
     "start_time": "2022-12-21T12:45:04.289098Z"
    }
   },
   "outputs": [],
   "source": [
    "df.loc[df.SAS_ID.isin(rm_df.SAS_ID), col] = [np.nan]*len(col)"
   ]
  },
  {
   "cell_type": "code",
   "execution_count": null,
   "id": "5e491098",
   "metadata": {
    "ExecuteTime": {
     "end_time": "2022-12-21T12:45:08.400173Z",
     "start_time": "2022-12-21T12:45:06.906175Z"
    }
   },
   "outputs": [],
   "source": [
    "# check : 檢查是否有符合後卡條件，但仍有貼標之客戶\n",
    "miss_cnt = df.loc[df.SAS_ID.isin(rm_df.SAS_ID), col].dropna(how='all').shape[0]\n",
    "if miss_cnt == 0 :\n",
    "    print('後卡條件排除成功!!!')\n",
    "else :\n",
    "    print('仍有 {} 人有貼標尚未轉換為空值...'.format(miss_cnt))"
   ]
  },
  {
   "cell_type": "code",
   "execution_count": null,
   "id": "8610961b",
   "metadata": {
    "ExecuteTime": {
     "end_time": "2022-12-21T12:45:25.686072Z",
     "start_time": "2022-12-21T12:45:21.170140Z"
    }
   },
   "outputs": [],
   "source": [
    "# check2 : 檢查是否持有任一貼標客戶人數 = 原人數 - 被排掉人數\n",
    "# 先抓出有被貼標的人\n",
    "# tag_index = [i for i in range(len(df)) if any(df.loc[i, col].notna()) ]\n",
    "tag_index_new = ( df['HOS_MKT_LEVEL'].notna() + df['SUR_MKT_LEVEL'].notna() + df['REI_MKT_LEVEL'].notna() \n",
    "             + df['ACC_MKT_LEVEL'].notna() + df['DD_MKT_LEVEL'].notna() + df['LTC_MKT_LEVEL'].notna() \n",
    "             + df['LIFE_MKT_LEVEL'].notna() )\n",
    "df[tag_index_new].shape\n",
    "# 檢查是否持有任一貼標客戶人數 = 原人數 - 被排掉人數\n",
    "if (df[tag_index_new].shape[0] == (df_tag_cus.shape[0] - df_tag_cus.SAS_ID.isin(rm_df.SAS_ID).sum())):\n",
    "    print('後卡條件排除成功!!!', '持有任一貼標客戶數量為 {} 人, 為整體POOL的 {}%'.format(df[tag_index_new].shape[0], round( (df[tag_index_new].shape[0]/len(df)*100) , 2) ))\n",
    "else :\n",
    "    print('後卡條件排除失敗!!!')"
   ]
  },
  {
   "cell_type": "markdown",
   "id": "82f48b26",
   "metadata": {},
   "source": [
    "## 檢查格式"
   ]
  },
  {
   "cell_type": "code",
   "execution_count": null,
   "id": "66029ea6",
   "metadata": {
    "ExecuteTime": {
     "end_time": "2022-12-21T12:45:45.181721Z",
     "start_time": "2022-12-21T12:45:45.171777Z"
    },
    "scrolled": false
   },
   "outputs": [],
   "source": [
    "df.info()"
   ]
  },
  {
   "cell_type": "markdown",
   "id": "728ab15f",
   "metadata": {},
   "source": [
    "## 存出 後卡後的行銷分大表"
   ]
  },
  {
   "cell_type": "code",
   "execution_count": null,
   "id": "884feb91",
   "metadata": {
    "ExecuteTime": {
     "end_time": "2022-12-21T12:47:57.684405Z",
     "start_time": "2022-12-21T12:45:52.561239Z"
    }
   },
   "outputs": [],
   "source": [
    "df.to_csv(result_path + 'IFCUSDPDT0001_' + year + month + '_new.csv', index=False)"
   ]
  },
  {
   "cell_type": "code",
   "execution_count": null,
   "id": "f73e9aba",
   "metadata": {},
   "outputs": [],
   "source": []
  },
  {
   "cell_type": "markdown",
   "id": "615537a7",
   "metadata": {},
   "source": [
    "## 分析歷程與紀錄"
   ]
  },
  {
   "cell_type": "markdown",
   "id": "991b7965",
   "metadata": {},
   "source": [
    "### 紀錄時間 : 20220922\n",
    "\n",
    "**行銷分大表順利後卡完成，但我這邊初步看了一下排除的數字，感覺排除量好像有點多，如下:**\n",
    "1. 持有任一貼標客戶共379萬 (尚未後卡)\n",
    "2. 持有任一貼標客戶，後卡後剩337.4萬 (後卡掉41.6萬 --> 好像有點多，約佔10%)\n",
    "\n",
    "**後續追加分析數字:**\n",
    "1. 多半由是哪個後卡條件造成 >>> 審規70萬；曾拒保18萬；不適合行銷8萬，推測審歸影響最嚴重，但應該把重點放在各規則的細節，是否有多排除的\n",
    "2. 檢視【各險種】前10%、11-30%貼標，【各別】失去多少比例的客戶 >>> 完成\n",
    "\n",
    "**建議/想法:**\n",
    "1. 看後卡條件細節有沒有可以再精進之處，若時間來得及就調整，若來不及，這次就先上~\n",
    "2. 個人認為10%有點多，有機會會影響模型行銷潛力判斷，未來可評估是否前卡掉 (待追加分析2)\n",
    "\n",
    "**短期結論:**\n",
    "1. 暫不調整細部規則，後續直接觀察後卡排除掉的這些人促約率、拒保率、特承率  (審規需與審查部協作，過往經驗得知需要較長時間合作與調整)"
   ]
  },
  {
   "cell_type": "markdown",
   "id": "a28347d4",
   "metadata": {},
   "source": [
    "### 紀錄時間 : 20221021\n",
    "\n",
    "**行銷分大表順利後卡完成，但我這邊初步看了一下排除的數字，感覺排除量好像有點多，如下:**\n",
    "1. 持有任一貼標客戶共370萬 (尚未後卡)\n",
    "2. 持有任一貼標客戶，後卡後剩329.6萬 (後卡掉41.8萬 --> 好像有點多，約佔10%)\n",
    "\n",
    "**後續追加分析數字:**\n",
    "1. 多半由是哪個後卡條件造成 >>> 審規70萬；曾拒保18萬；不適合行銷8萬，推測審歸影響最嚴重，但應該把重點放在各規則的細節，是否有多排除的\n",
    "2. 檢視【各險種】前10%、11-30%貼標，【各別】失去多少比例的客戶 >>> 完成\n",
    "\n",
    "**建議/想法:**\n",
    "1. 看後卡條件細節有沒有可以再精進之處，若時間來得及就調整，若來不及，這次就先上~\n",
    "2. 個人認為10%有點多，有機會會影響模型行銷潛力判斷，未來可評估是否前卡掉 (待追加分析2)\n",
    "\n",
    "**短期結論:**\n",
    "1. 暫不調整細部規則，後續直接觀察後卡排除掉的這些人促約率、拒保率、特承率  (審規需與審查部協作，過往經驗得知需要較長時間合作與調整)"
   ]
  },
  {
   "cell_type": "markdown",
   "id": "e8b5db22",
   "metadata": {},
   "source": [
    "### 紀錄時間 : 20221121\n",
    "\n",
    "**行銷分大表順利後卡完成，但我這邊初步看了一下排除的數字，感覺排除量好像有點多，如下:**\n",
    "1. 持有任一貼標客戶3,986,387 (尚未後卡)\n",
    "2. 持有任一貼標客戶，後卡後3,551,588 (後卡排434,799)\n"
   ]
  },
  {
   "cell_type": "markdown",
   "id": "ae01e197",
   "metadata": {},
   "source": [
    "### 紀錄時間 : 20221220\n",
    "\n",
    "**行銷分大表順利後卡完成，但我這邊初步看了一下排除的數字，感覺排除量好像有點多，如下:**\n",
    "1. 持有任一貼標客戶 4,096,407 (尚未後卡)\n",
    "2. 持有任一貼標客戶，後卡後 3,650,350 (後卡排 446,057)\n"
   ]
  },
  {
   "cell_type": "code",
   "execution_count": null,
   "id": "1ec759bb",
   "metadata": {},
   "outputs": [],
   "source": []
  }
 ],
 "metadata": {
  "kernelspec": {
   "display_name": "Python 3 (ipykernel)",
   "language": "python",
   "name": "python3"
  },
  "language_info": {
   "codemirror_mode": {
    "name": "ipython",
    "version": 3
   },
   "file_extension": ".py",
   "mimetype": "text/x-python",
   "name": "python",
   "nbconvert_exporter": "python",
   "pygments_lexer": "ipython3",
   "version": "3.9.7"
  },
  "toc": {
   "base_numbering": 1,
   "nav_menu": {},
   "number_sections": true,
   "sideBar": true,
   "skip_h1_title": false,
   "title_cell": "Table of Contents",
   "title_sidebar": "Contents",
   "toc_cell": true,
   "toc_position": {},
   "toc_section_display": true,
   "toc_window_display": true
  },
  "varInspector": {
   "cols": {
    "lenName": 16,
    "lenType": 16,
    "lenVar": 40
   },
   "kernels_config": {
    "python": {
     "delete_cmd_postfix": "",
     "delete_cmd_prefix": "del ",
     "library": "var_list.py",
     "varRefreshCmd": "print(var_dic_list())"
    },
    "r": {
     "delete_cmd_postfix": ") ",
     "delete_cmd_prefix": "rm(",
     "library": "var_list.r",
     "varRefreshCmd": "cat(var_dic_list()) "
    }
   },
   "types_to_exclude": [
    "module",
    "function",
    "builtin_function_or_method",
    "instance",
    "_Feature"
   ],
   "window_display": false
  }
 },
 "nbformat": 4,
 "nbformat_minor": 5
}
