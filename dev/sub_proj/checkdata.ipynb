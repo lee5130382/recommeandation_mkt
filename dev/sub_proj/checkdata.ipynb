{
 "cells": [
  {
   "cell_type": "code",
   "execution_count": 5,
   "metadata": {},
   "outputs": [],
   "source": [
    "import os\n",
    "import sys\n",
    "import pandas as pd\n",
    "\n",
    "ROOT = 'D:/LEE/BOX_ALL/BOX_NEW/行銷分ABT與模型檔/正式模型區/保障型行銷分GIT/model'\n",
    "os.chdir(ROOT)\n",
    "sys.path.insert(0, ROOT)\n",
    "os.getcwd()\n",
    "\n",
    "from func_pub.tools import chunk_load\n",
    "from dev.main.configure import Configure\n",
    "\n",
    "# -- Call parameter from configure\n",
    "CONF = Configure()"
   ]
  },
  {
   "cell_type": "code",
   "execution_count": 6,
   "metadata": {},
   "outputs": [],
   "source": [
    "PATH_DATA_TYPE = 'data/data_type/'\n",
    "PATH_RAW_DATA = 'data/raw_data/'\n",
    "dtype_dict_file = f'{PATH_DATA_TYPE}dtypes_20220825.csv'\n",
    "raw_abt_path = PATH_RAW_DATA\n",
    "raw_abt_file = CONF.train_data_name"
   ]
  },
  {
   "cell_type": "code",
   "execution_count": 7,
   "metadata": {},
   "outputs": [
    {
     "name": "stderr",
     "output_type": "stream",
     "text": [
      "68it [02:51,  2.52s/it]\n"
     ]
    }
   ],
   "source": [
    "## loading traindata\n",
    "# load type setting file\n",
    "dtype_dict_data = pd.read_csv(dtype_dict_file, names=['column', 'coltype'])\n",
    "dtype_dict = dict(zip(dtype_dict_data.column, dtype_dict_data.coltype))\n",
    "# use chunk to load data\n",
    "data = chunk_load(path=raw_abt_path, file=raw_abt_file,\n",
    "                    size=CONF.chunk_size, dtype_dict=dtype_dict) # dtype_dict : 讀檔指定欄位型態"
   ]
  },
  {
   "cell_type": "code",
   "execution_count": null,
   "metadata": {},
   "outputs": [],
   "source": [
    "# 檢查遺失值\n",
    "obj = data.isnull().sum()\n",
    "for key,value in obj.iteritems():\n",
    "    if value > 0: print(key,\",\",value)"
   ]
  },
  {
   "cell_type": "code",
   "execution_count": 8,
   "metadata": {},
   "outputs": [
    {
     "name": "stdout",
     "output_type": "stream",
     "text": [
      "training HOS y = 1 percentage: 0.13146%\n",
      "training SUR y = 1 percentage: 0.28902%\n",
      "training REI y = 1 percentage: 0.31307%\n",
      "training ACC y = 1 percentage: 0.35259%\n",
      "training DD y = 1 percentage: 0.45246%\n",
      "training LTC y = 1 percentage: 0.06656%\n",
      "training LIFE y = 1 percentage: 0.22997%\n"
     ]
    }
   ],
   "source": [
    "# 檢查training and testing y=1 的占比\n",
    "for target in CONF.target_y:\n",
    "    training_percentage = round(data['Y_'+target].mean()*100, 5)\n",
    "    print(f'training {target} y = 1 percentage: {training_percentage}%')"
   ]
  },
  {
   "cell_type": "code",
   "execution_count": null,
   "metadata": {},
   "outputs": [],
   "source": []
  }
 ],
 "metadata": {
  "kernelspec": {
   "display_name": "mkt",
   "language": "python",
   "name": "python3"
  },
  "language_info": {
   "codemirror_mode": {
    "name": "ipython",
    "version": 3
   },
   "file_extension": ".py",
   "mimetype": "text/x-python",
   "name": "python",
   "nbconvert_exporter": "python",
   "pygments_lexer": "ipython3",
   "version": "3.9.13"
  },
  "orig_nbformat": 4,
  "vscode": {
   "interpreter": {
    "hash": "76001c2c2d5bc666094e8e2c794cf59705ad7f212ebeb3cf22068ed77206e08d"
   }
  }
 },
 "nbformat": 4,
 "nbformat_minor": 2
}
