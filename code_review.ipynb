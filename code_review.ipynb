{
 "cells": [
  {
   "cell_type": "code",
   "execution_count": 1,
   "metadata": {},
   "outputs": [],
   "source": [
    "import os"
   ]
  },
  {
   "cell_type": "code",
   "execution_count": 9,
   "metadata": {},
   "outputs": [
    {
     "name": "stdout",
     "output_type": "stream",
     "text": [
      "d:\\LEE\\BOX_ALL\\BOX_NEW\\行銷分ABT與模型檔\\正式模型區\\保障型行銷分GIT\\model\n"
     ]
    }
   ],
   "source": [
    "print(os.getcwd())"
   ]
  },
  {
   "cell_type": "code",
   "execution_count": 19,
   "metadata": {},
   "outputs": [
    {
     "name": "stdout",
     "output_type": "stream",
     "text": [
      "************* Module func.backtest\n",
      "dev\\func\\backtest.py:64:0: C0325: Unnecessary parens after 'not' keyword (superfluous-parens)\n",
      "dev\\func\\backtest.py:84:0: C0325: Unnecessary parens after 'not' keyword (superfluous-parens)\n",
      "dev\\func\\backtest.py:38:0: E0401: Unable to import 'func_pub.tools' (import-error)\n",
      "dev\\func\\backtest.py:39:0: E0401: Unable to import 'func_pub.logger' (import-error)\n",
      "dev\\func\\backtest.py:40:0: E0401: Unable to import 'func_pub.dataprocessing' (import-error)\n",
      "dev\\func\\backtest.py:41:0: E0401: Unable to import 'func_pub.predictor' (import-error)\n",
      "dev\\func\\backtest.py:42:0: E0401: Unable to import 'dev.main.configure' (import-error)\n",
      "dev\\func\\backtest.py:107:16: R1732: Consider using 'with' for resource-allocating operations (consider-using-with)\n",
      "\n",
      "------------------------------------------------------------------\n",
      "Your code has been rated at 4.29/10 (previous run: 4.29/10, +0.00)\n",
      "\n",
      "\n"
     ]
    }
   ],
   "source": [
    "print(os.popen('pylint dev/func/backtest.py').read())"
   ]
  },
  {
   "cell_type": "code",
   "execution_count": 106,
   "metadata": {},
   "outputs": [
    {
     "name": "stdout",
     "output_type": "stream",
     "text": [
      "************* Module func.split_data\n",
      "dev\\func\\split_data.py:42:0: C0325: Unnecessary parens after 'not' keyword (superfluous-parens)\n",
      "dev\\func\\split_data.py:64:0: C0301: Line too long (175/100) (line-too-long)\n",
      "dev\\func\\split_data.py:9:0: E0401: Unable to import 'func_pub.logger' (import-error)\n",
      "dev\\func\\split_data.py:10:0: E0401: Unable to import 'func_pub.tools' (import-error)\n",
      "dev\\func\\split_data.py:11:0: E0401: Unable to import 'func_pub.dataprocessing' (import-error)\n",
      "dev\\func\\split_data.py:12:0: E0401: Unable to import 'dev.main.configure' (import-error)\n",
      "dev\\func\\split_data.py:14:0: C0411: third party import \"from colorama import init, Fore, Style\" should be placed before \"from func_pub.logger import logger\" (wrong-import-order)\n",
      "\n",
      "------------------------------------------------------------------\n",
      "Your code has been rated at 2.58/10 (previous run: 1.61/10, +0.97)\n",
      "\n",
      "\n"
     ]
    }
   ],
   "source": [
    "print(os.popen('pylint dev/func/split_data.py').read())"
   ]
  },
  {
   "cell_type": "code",
   "execution_count": 22,
   "metadata": {},
   "outputs": [
    {
     "name": "stdout",
     "output_type": "stream",
     "text": [
      "************* Module configure\n",
      "dev\\main\\configure.py:5:0: C0115: Missing class docstring (missing-class-docstring)\n",
      "dev\\main\\configure.py:5:0: R0902: Too many instance attributes (11/7) (too-many-instance-attributes)\n",
      "dev\\main\\configure.py:5:0: R0903: Too few public methods (0/2) (too-few-public-methods)\n",
      "\n",
      "------------------------------------------------------------------\n",
      "Your code has been rated at 7.69/10 (previous run: 7.69/10, +0.00)\n",
      "\n",
      "\n"
     ]
    }
   ],
   "source": [
    "print(os.popen('pylint dev/main/configure.py').read())"
   ]
  },
  {
   "cell_type": "code",
   "execution_count": 35,
   "metadata": {},
   "outputs": [
    {
     "name": "stdout",
     "output_type": "stream",
     "text": [
      "************* Module main\n",
      "dev\\main\\main.py:79:0: C0325: Unnecessary parens after 'not' keyword (superfluous-parens)\n",
      "dev\\main\\main.py:129:0: C0301: Line too long (117/100) (line-too-long)\n",
      "dev\\main\\main.py:47:0: E0401: Unable to import 'dev.main.configure' (import-error)\n",
      "dev\\main\\main.py:48:0: E0401: Unable to import 'dev.func.split_data' (import-error)\n",
      "dev\\main\\main.py:49:0: E0401: Unable to import 'dev.func.backtest' (import-error)\n",
      "dev\\main\\main.py:50:0: E0401: Unable to import 'func_pub.tools' (import-error)\n",
      "dev\\main\\main.py:51:0: E0401: Unable to import 'func_pub.dataprocessing' (import-error)\n",
      "dev\\main\\main.py:52:0: E0401: Unable to import 'func_pub.logger' (import-error)\n",
      "dev\\main\\main.py:53:0: E0401: Unable to import 'func_pub.training_model' (import-error)\n",
      "dev\\main\\main.py:92:7: R1732: Consider using 'with' for resource-allocating operations (consider-using-with)\n",
      "\n",
      "------------------------------------------------------------------\n",
      "Your code has been rated at 4.57/10 (previous run: 3.29/10, +1.29)\n",
      "\n",
      "\n"
     ]
    }
   ],
   "source": [
    "print(os.popen('pylint dev/main/main.py').read())"
   ]
  },
  {
   "cell_type": "code",
   "execution_count": 28,
   "metadata": {},
   "outputs": [
    {
     "name": "stdout",
     "output_type": "stream",
     "text": [
      "\n",
      "--------------------------------------------------------------------\n",
      "Your code has been rated at 10.00/10 (previous run: 10.00/10, +0.00)\n",
      "\n",
      "\n"
     ]
    }
   ],
   "source": [
    "print(os.popen('pylint func_pub/dataprocessing.py').read())"
   ]
  },
  {
   "cell_type": "code",
   "execution_count": 26,
   "metadata": {},
   "outputs": [
    {
     "name": "stdout",
     "output_type": "stream",
     "text": [
      "************* Module logger\n",
      "func_pub\\logger.py:23:0: C0103: Constant name \"console_handler_format\" doesn't conform to UPPER_CASE naming style (invalid-name)\n",
      "func_pub\\logger.py:30:0: C0103: Constant name \"file_handler_format\" doesn't conform to UPPER_CASE naming style (invalid-name)\n",
      "\n",
      "------------------------------------------------------------------\n",
      "Your code has been rated at 8.82/10 (previous run: 8.24/10, +0.59)\n",
      "\n",
      "\n"
     ]
    }
   ],
   "source": [
    "print(os.popen('pylint func_pub/logger.py').read())"
   ]
  },
  {
   "cell_type": "code",
   "execution_count": 27,
   "metadata": {},
   "outputs": [
    {
     "name": "stdout",
     "output_type": "stream",
     "text": [
      "************* Module predictor\n",
      "func_pub\\predictor.py:3:13: C0303: Trailing whitespace (trailing-whitespace)\n",
      "func_pub\\predictor.py:17:0: C0303: Trailing whitespace (trailing-whitespace)\n",
      "func_pub\\predictor.py:36:11: C0303: Trailing whitespace (trailing-whitespace)\n",
      "func_pub\\predictor.py:39:0: C0301: Line too long (104/100) (line-too-long)\n",
      "func_pub\\predictor.py:40:0: C0301: Line too long (118/100) (line-too-long)\n",
      "func_pub\\predictor.py:43:0: C0303: Trailing whitespace (trailing-whitespace)\n",
      "func_pub\\predictor.py:70:11: C0303: Trailing whitespace (trailing-whitespace)\n",
      "func_pub\\predictor.py:89:11: C0303: Trailing whitespace (trailing-whitespace)\n",
      "func_pub\\predictor.py:92:13: C0303: Trailing whitespace (trailing-whitespace)\n",
      "func_pub\\predictor.py:95:0: C0301: Line too long (104/100) (line-too-long)\n",
      "func_pub\\predictor.py:96:0: C0301: Line too long (111/100) (line-too-long)\n",
      "func_pub\\predictor.py:98:0: C0303: Trailing whitespace (trailing-whitespace)\n",
      "func_pub\\predictor.py:110:11: C0303: Trailing whitespace (trailing-whitespace)\n",
      "func_pub\\predictor.py:134:0: C0305: Trailing newlines (trailing-newlines)\n",
      "func_pub\\predictor.py:1:0: C0114: Missing module docstring (missing-module-docstring)\n",
      "func_pub\\predictor.py:7:0: E0401: Unable to import 'func_pub.training_model' (import-error)\n",
      "func_pub\\predictor.py:11:0: C0115: Missing class docstring (missing-class-docstring)\n",
      "func_pub\\predictor.py:3:0: C0411: standard import \"import pickle\" should be placed before \"import joblib\" (wrong-import-order)\n",
      "func_pub\\predictor.py:5:0: C0411: standard import \"import gc\" should be placed before \"import joblib\" (wrong-import-order)\n",
      "\n",
      "-----------------------------------\n",
      "Your code has been rated at 5.49/10\n",
      "\n",
      "\n"
     ]
    }
   ],
   "source": [
    "print(os.popen('pylint func_pub/predictor.py').read())"
   ]
  },
  {
   "cell_type": "code",
   "execution_count": 30,
   "metadata": {},
   "outputs": [
    {
     "name": "stdout",
     "output_type": "stream",
     "text": [
      "************* Module tools\n",
      "func_pub\\tools.py:43:0: C0301: Line too long (103/100) (line-too-long)\n",
      "func_pub\\tools.py:125:0: C0301: Line too long (118/100) (line-too-long)\n",
      "func_pub\\tools.py:126:0: C0303: Trailing whitespace (trailing-whitespace)\n",
      "func_pub\\tools.py:128:0: C0325: Unnecessary parens after 'return' keyword (superfluous-parens)\n",
      "func_pub\\tools.py:12:0: E0401: Unable to import 'func_pub.dataprocessing' (import-error)\n",
      "func_pub\\tools.py:12:0: C0413: Import \"from func_pub.dataprocessing import get_columns, label_encoding, transf_to_category\" should be placed at the top of the module (wrong-import-position)\n",
      "func_pub\\tools.py:13:0: E0401: Unable to import 'func_pub.logger' (import-error)\n",
      "func_pub\\tools.py:13:0: C0413: Import \"from func_pub.logger import logger\" should be placed at the top of the module (wrong-import-position)\n",
      "func_pub\\tools.py:14:0: E0401: Unable to import 'dev.main.configure' (import-error)\n",
      "func_pub\\tools.py:14:0: C0413: Import \"from dev.main.configure import Configure\" should be placed at the top of the module (wrong-import-position)\n",
      "func_pub\\tools.py:43:4: W0621: Redefining name 'buy_rate' from outer scope (line 20) (redefined-outer-name)\n",
      "func_pub\\tools.py:7:0: C0411: standard import \"import gc\" should be placed before \"import pandas as pd\" (wrong-import-order)\n",
      "\n",
      "------------------------------------------------------------------\n",
      "Your code has been rated at 4.29/10 (previous run: 4.05/10, +0.24)\n",
      "\n",
      "\n"
     ]
    }
   ],
   "source": [
    "print(os.popen('pylint func_pub/tools.py').read())"
   ]
  },
  {
   "cell_type": "code",
   "execution_count": 39,
   "metadata": {},
   "outputs": [
    {
     "name": "stdout",
     "output_type": "stream",
     "text": [
      "************* Module training_model\n",
      "func_pub\\training_model.py:37:0: C0301: Line too long (105/100) (line-too-long)\n",
      "func_pub\\training_model.py:38:0: C0301: Line too long (115/100) (line-too-long)\n",
      "func_pub\\training_model.py:92:0: C0301: Line too long (105/100) (line-too-long)\n",
      "func_pub\\training_model.py:146:0: C0301: Line too long (120/100) (line-too-long)\n",
      "func_pub\\training_model.py:19:0: E0401: Unable to import 'func_pub.logger' (import-error)\n",
      "func_pub\\training_model.py:21:0: E0401: Unable to import 'dev.main.configure' (import-error)\n",
      "func_pub\\training_model.py:25:0: R0914: Too many local variables (23/15) (too-many-locals)\n",
      "\n",
      "------------------------------------------------------------------\n",
      "Your code has been rated at 7.41/10 (previous run: 7.41/10, +0.00)\n",
      "\n",
      "\n"
     ]
    }
   ],
   "source": [
    "print(os.popen('pylint func_pub/training_model.py').read())"
   ]
  },
  {
   "cell_type": "code",
   "execution_count": 99,
   "metadata": {},
   "outputs": [
    {
     "name": "stdout",
     "output_type": "stream",
     "text": [
      "************* Module mkt_table\n",
      "prod\\func\\mkt_table.py:14:0: C0301: Line too long (111/100) (line-too-long)\n",
      "prod\\func\\mkt_table.py:53:0: C0301: Line too long (115/100) (line-too-long)\n",
      "prod\\func\\mkt_table.py:71:0: C0301: Line too long (112/100) (line-too-long)\n",
      "prod\\func\\mkt_table.py:121:0: C0301: Line too long (123/100) (line-too-long)\n",
      "prod\\func\\mkt_table.py:26:0: E0401: Unable to import 'prod.configure' (import-error)\n",
      "prod\\func\\mkt_table.py:27:0: E0401: Unable to import 'func_pub.logger' (import-error)\n",
      "prod\\func\\mkt_table.py:43:0: C0103: Constant name \"pred_date\" doesn't conform to UPPER_CASE naming style (invalid-name)\n",
      "prod\\func\\mkt_table.py:100:4: W0105: String statement has no effect (pointless-string-statement)\n",
      "prod\\func\\mkt_table.py:128:12: R0916: Too many boolean expressions in if statement (6/5) (too-many-boolean-expressions)\n",
      "prod\\func\\mkt_table.py:29:0: C0411: third party import \"from colorama import init, Fore, Style\" should be placed before \"from prod.configure import Configure\" (wrong-import-order)\n",
      "\n",
      "------------------------------------------------------------------\n",
      "Your code has been rated at 6.17/10 (previous run: 6.17/10, +0.00)\n",
      "\n",
      "\n"
     ]
    }
   ],
   "source": [
    "print(os.popen('pylint prod/func/mkt_table.py').read())"
   ]
  },
  {
   "cell_type": "code",
   "execution_count": 101,
   "metadata": {},
   "outputs": [
    {
     "name": "stdout",
     "output_type": "stream",
     "text": [
      "************* Module configure\n",
      "prod\\configure.py:4:0: C0115: Missing class docstring (missing-class-docstring)\n",
      "prod\\configure.py:4:0: R0902: Too many instance attributes (9/7) (too-many-instance-attributes)\n",
      "prod\\configure.py:4:0: R0903: Too few public methods (0/2) (too-few-public-methods)\n",
      "\n",
      "------------------------------------------------------------------\n",
      "Your code has been rated at 7.27/10 (previous run: 7.27/10, +0.00)\n",
      "\n",
      "\n"
     ]
    }
   ],
   "source": [
    "print(os.popen('pylint prod/configure.py').read())"
   ]
  },
  {
   "cell_type": "code",
   "execution_count": 107,
   "metadata": {},
   "outputs": [
    {
     "name": "stdout",
     "output_type": "stream",
     "text": [
      "************* Module main\n",
      "prod\\main.py:55:0: C0325: Unnecessary parens after 'not' keyword (superfluous-parens)\n",
      "prod\\main.py:74:0: C0325: Unnecessary parens after 'not' keyword (superfluous-parens)\n",
      "prod\\main.py:33:0: E0401: Unable to import 'func_pub.tools' (import-error)\n",
      "prod\\main.py:34:0: E0401: Unable to import 'func_pub.logger' (import-error)\n",
      "prod\\main.py:35:0: E0401: Unable to import 'func_pub.dataprocessing' (import-error)\n",
      "prod\\main.py:36:0: E0401: Unable to import 'func_pub.predictor' (import-error)\n",
      "prod\\main.py:37:0: E0401: Unable to import 'prod.func.mkt_table' (import-error)\n",
      "prod\\main.py:38:0: E0401: Unable to import 'prod.configure' (import-error)\n",
      "\n",
      "------------------------------------------------------------------\n",
      "Your code has been rated at 1.58/10 (previous run: 1.32/10, +0.26)\n",
      "\n",
      "\n"
     ]
    }
   ],
   "source": [
    "print(os.popen('pylint prod/main.py').read())"
   ]
  }
 ],
 "metadata": {
  "kernelspec": {
   "display_name": "mkt",
   "language": "python",
   "name": "python3"
  },
  "language_info": {
   "codemirror_mode": {
    "name": "ipython",
    "version": 3
   },
   "file_extension": ".py",
   "mimetype": "text/x-python",
   "name": "python",
   "nbconvert_exporter": "python",
   "pygments_lexer": "ipython3",
   "version": "3.9.13"
  },
  "orig_nbformat": 4
 },
 "nbformat": 4,
 "nbformat_minor": 2
}
